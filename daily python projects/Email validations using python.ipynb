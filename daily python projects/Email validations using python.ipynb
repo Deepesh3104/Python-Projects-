{
 "cells": [
  {
   "cell_type": "code",
   "execution_count": 2,
   "id": "125f1fc8",
   "metadata": {},
   "outputs": [
    {
     "name": "stdout",
     "output_type": "stream",
     "text": [
      "Enter your email =deep@gmail.com\n",
      "\n",
      "\n",
      "Right email\n"
     ]
    }
   ],
   "source": [
    "# Enter your Email address \n",
    "email=input(\"Enter your email =\")\n",
    "# Checking email counts\n",
    "k,j,d=0,0,0\n",
    "if len(email)>=6:\n",
    "# First letter of email should be always alphabets\n",
    "    if email[0].isalpha():\n",
    "        # @ is mendatory in email show we will implememt @ the count present only in email address\n",
    "        if(\"@\" in email) and (email.count(\"@\")==1):\n",
    "            print(\"\")\n",
    "            if (email[-4]==\".\")^(email[-3]==\".\"): #From last -3 or -4 it is compulsory to have a point pint(.)\n",
    "                print()\n",
    "                for i in email:\n",
    "                    if i==i.isspace():\n",
    "                        k=1\n",
    "                    elif i.isalpha:\n",
    "                        if i==i.upper:\n",
    "                            j=1\n",
    "                    elif i.isdigit():\n",
    "                        continue\n",
    "                    elif i==\"_\" or i==\".\" or i==\"@\":\n",
    "                        continue\n",
    "                    else:\n",
    "                        d=1\n",
    "                if k==1 or j==1 or d==1:\n",
    "                    print(\"Wrong email 5\")\n",
    "                else:\n",
    "                    print(\"Right email\")\n",
    "            else:\n",
    "                print(\"Wrong email syntax 4\")\n",
    "        else:\n",
    "            print(\"Wong email syntax 3\")\n",
    "    else:\n",
    "        print(\"Wrong email syntax 2\")\n",
    "else:\n",
    "    print(\"Wrong email syntax 1\")"
   ]
  },
  {
   "cell_type": "code",
   "execution_count": null,
   "id": "c4f2b8f4",
   "metadata": {},
   "outputs": [],
   "source": []
  }
 ],
 "metadata": {
  "kernelspec": {
   "display_name": "Python 3 (ipykernel)",
   "language": "python",
   "name": "python3"
  },
  "language_info": {
   "codemirror_mode": {
    "name": "ipython",
    "version": 3
   },
   "file_extension": ".py",
   "mimetype": "text/x-python",
   "name": "python",
   "nbconvert_exporter": "python",
   "pygments_lexer": "ipython3",
   "version": "3.9.13"
  }
 },
 "nbformat": 4,
 "nbformat_minor": 5
}
