{
 "cells": [
  {
   "cell_type": "code",
   "execution_count": 2,
   "id": "1348b1ff",
   "metadata": {},
   "outputs": [],
   "source": [
    "from tkinter import *\n",
    "import os"
   ]
  },
  {
   "cell_type": "code",
   "execution_count": null,
   "id": "08425418",
   "metadata": {},
   "outputs": [],
   "source": [
    "def restart():\n",
    "    os.system(\"shutdown / r /t 1\")\n",
    "def restart_time():\n",
    "    os.system(\"shutdown /r /t 20\")\n",
    "def logout():\n",
    "    os.system(\"shutdown -1\")\n",
    "def shutdown():\n",
    "    os.system(\"shutdown /s /t 1\")\n",
    "st=Tk()\n",
    "st.title(\"ShutDown App\") #App title\n",
    "st.geometry(\"500x500\") #boxsize reshape\n",
    "st.config(bg='Black') #App background\n",
    "r_button = Button(st,text=\"Restart\",font=(\"Time New Roman\",10,\"bold\"),relief=RAISED,cursor=\"arrow\",command=restart)\n",
    "r_button.place(x=150,y=60,height=50,width=200)\n",
    "\n",
    "rt_button = Button(st,text=\"Restart time\",font=(\"Time New Roman\",10,\"bold\"),relief=RAISED,cursor=\"arrow\",command=restart_time)\n",
    "rt_button.place(x=150,y=170,height=50,width=200)\n",
    "\n",
    "lg_button=Button(st,text=\"Logout\",font=(\"Time New Roman\",10,\"bold\"),relief=RAISED,cursor=\"plus\",command=logout)\n",
    "lg_button.place(x=150,y=270,height=50,width=200)\n",
    "\n",
    "st_button=Button(st,text=\"Shutdown\",font=(\"Time New Roman\",10,\"bold\"),relief=RAISED,cursor=\"arrow\",command=shutdown)\n",
    "st_button.place(x=150,y=370,height=50,width=200)\n",
    "\n",
    "st.mainloop() # for graphic"
   ]
  },
  {
   "cell_type": "code",
   "execution_count": null,
   "id": "df5067c7",
   "metadata": {},
   "outputs": [],
   "source": []
  }
 ],
 "metadata": {
  "kernelspec": {
   "display_name": "Python 3 (ipykernel)",
   "language": "python",
   "name": "python3"
  },
  "language_info": {
   "codemirror_mode": {
    "name": "ipython",
    "version": 3
   },
   "file_extension": ".py",
   "mimetype": "text/x-python",
   "name": "python",
   "nbconvert_exporter": "python",
   "pygments_lexer": "ipython3",
   "version": "3.9.13"
  }
 },
 "nbformat": 4,
 "nbformat_minor": 5
}
